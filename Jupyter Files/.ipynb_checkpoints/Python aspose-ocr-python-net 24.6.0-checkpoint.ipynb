{
 "cells": [
  {
   "cell_type": "markdown",
   "id": "f0d986bb",
   "metadata": {},
   "source": [
    "# Python aspose-ocr-python-net 24.6.0"
   ]
  },
  {
   "cell_type": "markdown",
   "id": "a2c711fb",
   "metadata": {},
   "source": [
    "## About: Using Aspose OCR .Net 24.6.0 to read PDF files and extract texts"
   ]
  },
  {
   "cell_type": "markdown",
   "id": "edcb60c9",
   "metadata": {},
   "source": [
    "### Get Started:\n",
    "1. Run `pip install aspose-ocr-python-net` to fetch the package. \n",
    "2. If you already have it, run `pip install --upgrade aspose-ocr-python-net` to upgrade.\n",
    "\n",
    "### Code snippet\n",
    "Aspose.OCR for Python via .NET is extremely easy to use, regardless of the application's scale and complexity. Let's try to create a very simple application that can extract text from images and output it to the console.\n",
    "\n",
    "1. Install the latest version of the aspose-ocr package using pip.\n",
    "2. Import `aspose.ocr` module into the application.\n",
    "3. Create an instance of `AsposeOcr` class.\n",
    "4. Create an instance of `OcrInput` class and add one or more images to it.\n",
    "5. Extract text from the image using `Recognize` method.\n",
    "6. Output the extracted text to the console.\n",
    "\n",
    "### Sample Code\n",
    "`import aspose.ocr as ocr`\n",
    "\n",
    "`# Initialize OCR engine`\n",
    "\n",
    "`api = AsposeOcr()`\n",
    "\n",
    "`# Initialize OCR input`\n",
    "\n",
    "`input = OcrInput(InputType.SINGLE_IMAGE)`\n",
    "\n",
    "`input.add(\"1.png\")`\n",
    "\n",
    "`input.add(\"2.jpg\")`\n",
    "\n",
    "`# Recognize images`\n",
    "\n",
    "`result = api.recognize(input)`\n",
    "\n",
    "`# Print result`\n",
    "\n",
    "`print(result[0].recognition_text)`\n",
    "\n",
    "`print(result[1].recognition_text)`\n"
   ]
  },
  {
   "cell_type": "markdown",
   "id": "50aa4340",
   "metadata": {},
   "source": [
    "### Start of code base"
   ]
  },
  {
   "cell_type": "code",
   "execution_count": 5,
   "id": "a08f0ef5",
   "metadata": {},
   "outputs": [
    {
     "name": "stdout",
     "output_type": "stream",
     "text": [
      "Requirement already satisfied: aspose-ocr-python-net in /Users/micah/anaconda3/lib/python3.10/site-packages (24.6.0)\n",
      "Note: you may need to restart the kernel to use updated packages.\n"
     ]
    }
   ],
   "source": [
    "pip install aspose-ocr-python-net"
   ]
  },
  {
   "cell_type": "code",
   "execution_count": 3,
   "id": "1c0c1ced",
   "metadata": {},
   "outputs": [],
   "source": [
    "import aspose.ocr as ocr"
   ]
  },
  {
   "cell_type": "markdown",
   "id": "2f5ac5cd",
   "metadata": {},
   "source": [
    "Create an instance of Aspose.OCR API"
   ]
  },
  {
   "cell_type": "code",
   "execution_count": 10,
   "id": "1f206ce3",
   "metadata": {},
   "outputs": [],
   "source": [
    "test = ocr.AsposeOcr()"
   ]
  },
  {
   "cell_type": "code",
   "execution_count": null,
   "id": "a62b67d4",
   "metadata": {},
   "outputs": [],
   "source": []
  },
  {
   "cell_type": "code",
   "execution_count": null,
   "id": "3c397d66",
   "metadata": {},
   "outputs": [],
   "source": []
  },
  {
   "cell_type": "code",
   "execution_count": null,
   "id": "b7e208df",
   "metadata": {},
   "outputs": [],
   "source": []
  }
 ],
 "metadata": {
  "kernelspec": {
   "display_name": "Python 3 (ipykernel)",
   "language": "python",
   "name": "python3"
  },
  "language_info": {
   "codemirror_mode": {
    "name": "ipython",
    "version": 3
   },
   "file_extension": ".py",
   "mimetype": "text/x-python",
   "name": "python",
   "nbconvert_exporter": "python",
   "pygments_lexer": "ipython3",
   "version": "3.10.9"
  }
 },
 "nbformat": 4,
 "nbformat_minor": 5
}
