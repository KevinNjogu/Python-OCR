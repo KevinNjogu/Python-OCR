{
 "cells": [
  {
   "cell_type": "markdown",
   "id": "a8486cf0",
   "metadata": {},
   "source": [
    "# Python aspose-ocr-python-net 24.6.0"
   ]
  },
  {
   "cell_type": "markdown",
   "id": "c446e1c0",
   "metadata": {},
   "source": [
    "## About: Using Aspose OCR .Net 24.6.0 to read PDF files and extract texts"
   ]
  },
  {
   "cell_type": "markdown",
   "id": "273db812",
   "metadata": {},
   "source": [
    "### Get Started:\n",
    "1. Run `pip install aspose-ocr-python-net` to fetch the package. \n",
    "2. If you already have it, run `pip install --upgrade aspose-ocr-python-net` to upgrade.\n",
    "\n",
    "### Code snippet\n",
    "Aspose.OCR for Python via .NET is extremely easy to use, regardless of the application's scale and complexity. Let's try to create a very simple application that can extract text from images and output it to the console.\n",
    "\n",
    "1. Install the latest version of the aspose-ocr package using pip.\n",
    "2. Import `aspose.ocr` module into the application.\n",
    "3. Create an instance of `AsposeOcr` class.\n",
    "4. Create an instance of `OcrInput` class and add one or more images to it.\n",
    "5. Extract text from the image using `Recognize` method.\n",
    "6. Output the extracted text to the console.\n",
    "\n",
    "### Sample Code\n",
    "`import aspose.ocr as ocr`\n",
    "\n",
    "`# Initialize OCR engine`\n",
    "\n",
    "`api = AsposeOcr()`\n",
    "\n",
    "`# Initialize OCR input`\n",
    "\n",
    "`input = OcrInput(InputType.SINGLE_IMAGE)`\n",
    "\n",
    "`input.add(\"1.png\")`\n",
    "\n",
    "`input.add(\"2.jpg\")`\n",
    "\n",
    "`# Recognize images`\n",
    "\n",
    "`result = api.recognize(input)`\n",
    "\n",
    "`# Print result`\n",
    "\n",
    "`print(result[0].recognition_text)`\n",
    "\n",
    "`print(result[1].recognition_text)`\n"
   ]
  },
  {
   "cell_type": "markdown",
   "id": "ffa5f153",
   "metadata": {},
   "source": [
    "### Start of code base"
   ]
  },
  {
   "cell_type": "code",
   "execution_count": 1,
   "id": "2fb87822",
   "metadata": {},
   "outputs": [
    {
     "name": "stdout",
     "output_type": "stream",
     "text": [
      "Requirement already satisfied: aspose-ocr-python-net in /Users/micah/anaconda3/lib/python3.10/site-packages (24.6.0)\n",
      "Note: you may need to restart the kernel to use updated packages.\n"
     ]
    }
   ],
   "source": [
    "pip install aspose-ocr-python-net"
   ]
  },
  {
   "cell_type": "code",
   "execution_count": 2,
   "id": "fb0e2abc",
   "metadata": {},
   "outputs": [],
   "source": [
    "import aspose.ocr as ocr"
   ]
  },
  {
   "cell_type": "markdown",
   "id": "67b97944",
   "metadata": {},
   "source": [
    "Create an instance of Aspose.OCR API"
   ]
  },
  {
   "cell_type": "code",
   "execution_count": 3,
   "id": "e419b6e2",
   "metadata": {},
   "outputs": [],
   "source": [
    "test = ocr.AsposeOcr()"
   ]
  },
  {
   "cell_type": "markdown",
   "id": "8f59bde9",
   "metadata": {},
   "source": [
    "### Using pytessaract"
   ]
  },
  {
   "cell_type": "code",
   "execution_count": 6,
   "id": "383c2b69",
   "metadata": {},
   "outputs": [
    {
     "name": "stdout",
     "output_type": "stream",
     "text": [
      "Collecting pytesseract\n",
      "  Downloading pytesseract-0.3.13-py3-none-any.whl (14 kB)\n",
      "\u001b[31mERROR: Could not find a version that satisfies the requirement 0.3.13 (from versions: none)\u001b[0m\u001b[31m\n",
      "\u001b[0m\u001b[31mERROR: No matching distribution found for 0.3.13\u001b[0m\u001b[31m\n",
      "\u001b[0mNote: you may need to restart the kernel to use updated packages.\n"
     ]
    }
   ],
   "source": [
    "pip install pytesseract 0.3.13"
   ]
  },
  {
   "cell_type": "code",
   "execution_count": 5,
   "id": "3e3b3ab5",
   "metadata": {},
   "outputs": [
    {
     "ename": "ModuleNotFoundError",
     "evalue": "No module named 'pytesseract'",
     "output_type": "error",
     "traceback": [
      "\u001b[0;31m---------------------------------------------------------------------------\u001b[0m",
      "\u001b[0;31mModuleNotFoundError\u001b[0m                       Traceback (most recent call last)",
      "Cell \u001b[0;32mIn[5], line 2\u001b[0m\n\u001b[1;32m      1\u001b[0m \u001b[38;5;28;01mfrom\u001b[39;00m \u001b[38;5;21;01mPIL\u001b[39;00m \u001b[38;5;28;01mimport\u001b[39;00m Image\n\u001b[0;32m----> 2\u001b[0m \u001b[38;5;28;01mimport\u001b[39;00m \u001b[38;5;21;01mpytesseract\u001b[39;00m\n",
      "\u001b[0;31mModuleNotFoundError\u001b[0m: No module named 'pytesseract'"
     ]
    }
   ],
   "source": [
    "from PIL import Image\n",
    "import pytesseract"
   ]
  },
  {
   "cell_type": "code",
   "execution_count": null,
   "id": "5b053b1c",
   "metadata": {},
   "outputs": [],
   "source": []
  },
  {
   "cell_type": "code",
   "execution_count": null,
   "id": "125e8628",
   "metadata": {},
   "outputs": [],
   "source": []
  }
 ],
 "metadata": {
  "kernelspec": {
   "display_name": "Python 3 (ipykernel)",
   "language": "python",
   "name": "python3"
  },
  "language_info": {
   "codemirror_mode": {
    "name": "ipython",
    "version": 3
   },
   "file_extension": ".py",
   "mimetype": "text/x-python",
   "name": "python",
   "nbconvert_exporter": "python",
   "pygments_lexer": "ipython3",
   "version": "3.10.9"
  }
 },
 "nbformat": 4,
 "nbformat_minor": 5
}
